{
  "nbformat": 4,
  "nbformat_minor": 0,
  "metadata": {
    "colab": {
      "provenance": [],
      "authorship_tag": "ABX9TyN9yj8DGYArTDMXFbqEZzlV",
      "include_colab_link": true
    },
    "kernelspec": {
      "name": "python3",
      "display_name": "Python 3"
    },
    "language_info": {
      "name": "python"
    },
    "accelerator": "TPU"
  },
  "cells": [
    {
      "cell_type": "markdown",
      "metadata": {
        "id": "view-in-github",
        "colab_type": "text"
      },
      "source": [
        "<a href=\"https://colab.research.google.com/github/smartinternz02/SI-GuidedProject-610134-1699032511/blob/main/CrimeVision.ipynb\" target=\"_parent\"><img src=\"https://colab.research.google.com/assets/colab-badge.svg\" alt=\"Open In Colab\"/></a>"
      ]
    },
    {
      "cell_type": "code",
      "execution_count": 1,
      "metadata": {
        "id": "mfA6In0q--03"
      },
      "outputs": [],
      "source": [
        "!pip install -q kaggle"
      ]
    },
    {
      "cell_type": "code",
      "source": [
        "#upload kaggle.json to access Kaggle Datasets\n",
        "from google.colab import files\n",
        "uploaded = files.upload()"
      ],
      "metadata": {
        "colab": {
          "base_uri": "https://localhost:8080/",
          "height": 73
        },
        "id": "hRjEGHU7_JzD",
        "outputId": "f6305532-697c-4047-e6e3-58e63f8d0b37"
      },
      "execution_count": 2,
      "outputs": [
        {
          "output_type": "display_data",
          "data": {
            "text/plain": [
              "<IPython.core.display.HTML object>"
            ],
            "text/html": [
              "\n",
              "     <input type=\"file\" id=\"files-bcbb38fd-113e-4e13-8b94-c3740d43332a\" name=\"files[]\" multiple disabled\n",
              "        style=\"border:none\" />\n",
              "     <output id=\"result-bcbb38fd-113e-4e13-8b94-c3740d43332a\">\n",
              "      Upload widget is only available when the cell has been executed in the\n",
              "      current browser session. Please rerun this cell to enable.\n",
              "      </output>\n",
              "      <script>// Copyright 2017 Google LLC\n",
              "//\n",
              "// Licensed under the Apache License, Version 2.0 (the \"License\");\n",
              "// you may not use this file except in compliance with the License.\n",
              "// You may obtain a copy of the License at\n",
              "//\n",
              "//      http://www.apache.org/licenses/LICENSE-2.0\n",
              "//\n",
              "// Unless required by applicable law or agreed to in writing, software\n",
              "// distributed under the License is distributed on an \"AS IS\" BASIS,\n",
              "// WITHOUT WARRANTIES OR CONDITIONS OF ANY KIND, either express or implied.\n",
              "// See the License for the specific language governing permissions and\n",
              "// limitations under the License.\n",
              "\n",
              "/**\n",
              " * @fileoverview Helpers for google.colab Python module.\n",
              " */\n",
              "(function(scope) {\n",
              "function span(text, styleAttributes = {}) {\n",
              "  const element = document.createElement('span');\n",
              "  element.textContent = text;\n",
              "  for (const key of Object.keys(styleAttributes)) {\n",
              "    element.style[key] = styleAttributes[key];\n",
              "  }\n",
              "  return element;\n",
              "}\n",
              "\n",
              "// Max number of bytes which will be uploaded at a time.\n",
              "const MAX_PAYLOAD_SIZE = 100 * 1024;\n",
              "\n",
              "function _uploadFiles(inputId, outputId) {\n",
              "  const steps = uploadFilesStep(inputId, outputId);\n",
              "  const outputElement = document.getElementById(outputId);\n",
              "  // Cache steps on the outputElement to make it available for the next call\n",
              "  // to uploadFilesContinue from Python.\n",
              "  outputElement.steps = steps;\n",
              "\n",
              "  return _uploadFilesContinue(outputId);\n",
              "}\n",
              "\n",
              "// This is roughly an async generator (not supported in the browser yet),\n",
              "// where there are multiple asynchronous steps and the Python side is going\n",
              "// to poll for completion of each step.\n",
              "// This uses a Promise to block the python side on completion of each step,\n",
              "// then passes the result of the previous step as the input to the next step.\n",
              "function _uploadFilesContinue(outputId) {\n",
              "  const outputElement = document.getElementById(outputId);\n",
              "  const steps = outputElement.steps;\n",
              "\n",
              "  const next = steps.next(outputElement.lastPromiseValue);\n",
              "  return Promise.resolve(next.value.promise).then((value) => {\n",
              "    // Cache the last promise value to make it available to the next\n",
              "    // step of the generator.\n",
              "    outputElement.lastPromiseValue = value;\n",
              "    return next.value.response;\n",
              "  });\n",
              "}\n",
              "\n",
              "/**\n",
              " * Generator function which is called between each async step of the upload\n",
              " * process.\n",
              " * @param {string} inputId Element ID of the input file picker element.\n",
              " * @param {string} outputId Element ID of the output display.\n",
              " * @return {!Iterable<!Object>} Iterable of next steps.\n",
              " */\n",
              "function* uploadFilesStep(inputId, outputId) {\n",
              "  const inputElement = document.getElementById(inputId);\n",
              "  inputElement.disabled = false;\n",
              "\n",
              "  const outputElement = document.getElementById(outputId);\n",
              "  outputElement.innerHTML = '';\n",
              "\n",
              "  const pickedPromise = new Promise((resolve) => {\n",
              "    inputElement.addEventListener('change', (e) => {\n",
              "      resolve(e.target.files);\n",
              "    });\n",
              "  });\n",
              "\n",
              "  const cancel = document.createElement('button');\n",
              "  inputElement.parentElement.appendChild(cancel);\n",
              "  cancel.textContent = 'Cancel upload';\n",
              "  const cancelPromise = new Promise((resolve) => {\n",
              "    cancel.onclick = () => {\n",
              "      resolve(null);\n",
              "    };\n",
              "  });\n",
              "\n",
              "  // Wait for the user to pick the files.\n",
              "  const files = yield {\n",
              "    promise: Promise.race([pickedPromise, cancelPromise]),\n",
              "    response: {\n",
              "      action: 'starting',\n",
              "    }\n",
              "  };\n",
              "\n",
              "  cancel.remove();\n",
              "\n",
              "  // Disable the input element since further picks are not allowed.\n",
              "  inputElement.disabled = true;\n",
              "\n",
              "  if (!files) {\n",
              "    return {\n",
              "      response: {\n",
              "        action: 'complete',\n",
              "      }\n",
              "    };\n",
              "  }\n",
              "\n",
              "  for (const file of files) {\n",
              "    const li = document.createElement('li');\n",
              "    li.append(span(file.name, {fontWeight: 'bold'}));\n",
              "    li.append(span(\n",
              "        `(${file.type || 'n/a'}) - ${file.size} bytes, ` +\n",
              "        `last modified: ${\n",
              "            file.lastModifiedDate ? file.lastModifiedDate.toLocaleDateString() :\n",
              "                                    'n/a'} - `));\n",
              "    const percent = span('0% done');\n",
              "    li.appendChild(percent);\n",
              "\n",
              "    outputElement.appendChild(li);\n",
              "\n",
              "    const fileDataPromise = new Promise((resolve) => {\n",
              "      const reader = new FileReader();\n",
              "      reader.onload = (e) => {\n",
              "        resolve(e.target.result);\n",
              "      };\n",
              "      reader.readAsArrayBuffer(file);\n",
              "    });\n",
              "    // Wait for the data to be ready.\n",
              "    let fileData = yield {\n",
              "      promise: fileDataPromise,\n",
              "      response: {\n",
              "        action: 'continue',\n",
              "      }\n",
              "    };\n",
              "\n",
              "    // Use a chunked sending to avoid message size limits. See b/62115660.\n",
              "    let position = 0;\n",
              "    do {\n",
              "      const length = Math.min(fileData.byteLength - position, MAX_PAYLOAD_SIZE);\n",
              "      const chunk = new Uint8Array(fileData, position, length);\n",
              "      position += length;\n",
              "\n",
              "      const base64 = btoa(String.fromCharCode.apply(null, chunk));\n",
              "      yield {\n",
              "        response: {\n",
              "          action: 'append',\n",
              "          file: file.name,\n",
              "          data: base64,\n",
              "        },\n",
              "      };\n",
              "\n",
              "      let percentDone = fileData.byteLength === 0 ?\n",
              "          100 :\n",
              "          Math.round((position / fileData.byteLength) * 100);\n",
              "      percent.textContent = `${percentDone}% done`;\n",
              "\n",
              "    } while (position < fileData.byteLength);\n",
              "  }\n",
              "\n",
              "  // All done.\n",
              "  yield {\n",
              "    response: {\n",
              "      action: 'complete',\n",
              "    }\n",
              "  };\n",
              "}\n",
              "\n",
              "scope.google = scope.google || {};\n",
              "scope.google.colab = scope.google.colab || {};\n",
              "scope.google.colab._files = {\n",
              "  _uploadFiles,\n",
              "  _uploadFilesContinue,\n",
              "};\n",
              "})(self);\n",
              "</script> "
            ]
          },
          "metadata": {}
        },
        {
          "output_type": "stream",
          "name": "stdout",
          "text": [
            "Saving kaggle.json to kaggle.json\n"
          ]
        }
      ]
    },
    {
      "cell_type": "code",
      "source": [
        "! mkdir ~/.kaggle\n",
        "! cp kaggle.json ~/.kaggle/\n",
        "! chmod 600 ~/.kaggle/kaggle.json"
      ],
      "metadata": {
        "id": "OgCZxI-9_LiA"
      },
      "execution_count": 3,
      "outputs": []
    },
    {
      "cell_type": "code",
      "source": [
        "#download ucf-crime-dataset\n",
        "!kaggle datasets download -d odins0n/ucf-crime-dataset"
      ],
      "metadata": {
        "colab": {
          "base_uri": "https://localhost:8080/"
        },
        "id": "DHmAFmiE_P4L",
        "outputId": "92b780a2-1af9-47bd-f959-9d1b8060f9b0"
      },
      "execution_count": 4,
      "outputs": [
        {
          "output_type": "stream",
          "name": "stdout",
          "text": [
            "Downloading ucf-crime-dataset.zip to /content\n",
            "100% 11.0G/11.0G [05:50<00:00, 41.4MB/s]\n",
            "100% 11.0G/11.0G [05:50<00:00, 33.8MB/s]\n"
          ]
        }
      ]
    },
    {
      "cell_type": "code",
      "source": [
        "!unzip ucf-crime-dataset.zip"
      ],
      "metadata": {
        "id": "PFFx8uY__Sc8"
      },
      "execution_count": null,
      "outputs": []
    },
    {
      "cell_type": "code",
      "source": [
        "#import necessary libraries\n",
        "import matplotlib.pyplot as plt\n",
        "import numpy as np\n",
        "import tensorflow as tf\n",
        "import os\n",
        "import random\n",
        "from random import sample\n",
        "from tensorflow import keras\n",
        "from tensorflow.keras import layers\n",
        "from tensorflow.python.keras.layers import Dense, AveragePooling2D, Dropout,MaxPooling2D, Conv2D, Flatten\n",
        "from tensorflow.keras.models import Sequential\n",
        "from tensorflow.keras.optimizers import Adam\n",
        "from keras.preprocessing.image import ImageDataGenerator\n",
        "from keras.applications.resnet import preprocess_input\n",
        "from keras.applications import ResNet50\n",
        "from keras.callbacks import ModelCheckpoint\n",
        "from keras.callbacks import EarlyStopping\n",
        "from keras.preprocessing import image\n",
        "from tensorflow.keras.utils import load_img\n",
        "from collections import Counter\n",
        "from keras.layers import BatchNormalization\n",
        "from tensorflow.keras.optimizers import SGD\n"
      ],
      "metadata": {
        "id": "uhCy7mEBEuH-"
      },
      "execution_count": 6,
      "outputs": []
    },
    {
      "cell_type": "markdown",
      "source": [
        "##Data Collection & Preprocessing"
      ],
      "metadata": {
        "id": "OJJVHTiFg7Hx"
      }
    },
    {
      "cell_type": "code",
      "source": [
        "train_path = '/content/Train'\n",
        "test_path = '/content/Test'"
      ],
      "metadata": {
        "id": "BkX2-IcvEuyd"
      },
      "execution_count": 24,
      "outputs": []
    },
    {
      "cell_type": "code",
      "source": [
        "train_datagen = ImageDataGenerator(\n",
        "    preprocessing_function=preprocess_input,\n",
        "    rotation_range=40,\n",
        "    width_shift_range=0.2,\n",
        "    height_shift_range=0.2,\n",
        "    shear_range=0.2,\n",
        "    zoom_range=0.2,\n",
        "    horizontal_flip=True,\n",
        "    fill_mode='nearest')\n",
        "\n",
        "test_datagen = ImageDataGenerator(\n",
        "    preprocessing_function=preprocess_input,\n",
        "    rotation_range=40,\n",
        "    width_shift_range=0.2,\n",
        "    height_shift_range=0.2,\n",
        "    shear_range=0.2,\n",
        "    zoom_range=0.2,\n",
        "    horizontal_flip=True,\n",
        "    fill_mode='nearest')"
      ],
      "metadata": {
        "id": "dgpJIQ2fEwDu"
      },
      "execution_count": 25,
      "outputs": []
    },
    {
      "cell_type": "code",
      "source": [
        "train_set = train_datagen.flow_from_directory(train_path,\n",
        "                                                 target_size = (64, 64),\n",
        "                                                 batch_size = 32,\n",
        "                                                 class_mode = 'categorical')"
      ],
      "metadata": {
        "colab": {
          "base_uri": "https://localhost:8080/"
        },
        "id": "qgYRNeEEEyxd",
        "outputId": "806298ab-722a-4d2d-8c5b-9ce7c626c93f"
      },
      "execution_count": 26,
      "outputs": [
        {
          "output_type": "stream",
          "name": "stdout",
          "text": [
            "Found 1266345 images belonging to 14 classes.\n"
          ]
        }
      ]
    },
    {
      "cell_type": "code",
      "source": [
        "test_set = test_datagen.flow_from_directory(test_path,\n",
        "                                                 target_size = (64, 64),\n",
        "                                                 batch_size = 32,\n",
        "                                                 class_mode = 'categorical')"
      ],
      "metadata": {
        "colab": {
          "base_uri": "https://localhost:8080/"
        },
        "id": "KB6MkkZWE2F0",
        "outputId": "dc0e0d3d-2d4d-41f1-df71-939dbfb8637a"
      },
      "execution_count": 27,
      "outputs": [
        {
          "output_type": "stream",
          "name": "stdout",
          "text": [
            "Found 111308 images belonging to 14 classes.\n"
          ]
        }
      ]
    },
    {
      "cell_type": "code",
      "source": [
        "class_names = list(train_set.class_indices.keys())\n",
        "class_names = np.array(class_names)\n",
        "class_names"
      ],
      "metadata": {
        "colab": {
          "base_uri": "https://localhost:8080/"
        },
        "id": "uaqyog44E3ed",
        "outputId": "afcd9328-3177-4c01-9dc8-8dfc88504f94"
      },
      "execution_count": 28,
      "outputs": [
        {
          "output_type": "execute_result",
          "data": {
            "text/plain": [
              "array(['Abuse', 'Arrest', 'Arson', 'Assault', 'Burglary', 'Explosion',\n",
              "       'Fighting', 'NormalVideos', 'RoadAccidents', 'Robbery', 'Shooting',\n",
              "       'Shoplifting', 'Stealing', 'Vandalism'], dtype='<U13')"
            ]
          },
          "metadata": {},
          "execution_count": 28
        }
      ]
    },
    {
      "cell_type": "code",
      "source": [
        "#Visualisation\n",
        "dataset_path = '/content/Train/'\n",
        "num_samples=14\n",
        "class_folders = [folder for folder in os.listdir(dataset_path) if os.path.isdir(os.path.join(dataset_path, folder))]\n",
        "class_counts = Counter()\n",
        "for classes in class_names:\n",
        "    class_path = os.path.join(dataset_path, classes)\n",
        "    class_counts[classes] = len(os.listdir(class_path))\n",
        "classes, counts = zip(*class_counts.items())\n",
        "dcount = dict()\n",
        "i=0\n",
        "for crimes in classes:\n",
        "  dcount[crimes] = counts[i]\n",
        "  i=i+1\n",
        "\n",
        "print(dcount)\n",
        "plt.figure(figsize=(20,5))  # Set the figsize here\n",
        "plt.bar(classes, counts)\n",
        "plt.xlabel('Classes')\n",
        "plt.ylabel('Number of Samples')\n",
        "plt.title('Class Distribution')\n",
        "plt.show()\n",
        "\n"
      ],
      "metadata": {
        "colab": {
          "base_uri": "https://localhost:8080/",
          "height": 507
        },
        "id": "7rUMUS7hE43m",
        "outputId": "ba77a787-892c-4e58-b0be-e219791f0fb7"
      },
      "execution_count": 29,
      "outputs": [
        {
          "output_type": "stream",
          "name": "stdout",
          "text": [
            "{'Abuse': 19076, 'Arrest': 26397, 'Arson': 24421, 'Assault': 10360, 'Burglary': 39504, 'Explosion': 18753, 'Fighting': 24684, 'NormalVideos': 947768, 'RoadAccidents': 23486, 'Robbery': 41493, 'Shooting': 7140, 'Shoplifting': 24835, 'Stealing': 44802, 'Vandalism': 13626}\n"
          ]
        },
        {
          "output_type": "display_data",
          "data": {
            "text/plain": [
              "<Figure size 2000x500 with 1 Axes>"
            ],
            "image/png": "[encoded data removed]"
          },
          "metadata": {}
        }
      ]
    },
    {
      "cell_type": "markdown",
      "source": [
        "The data is imbalanced due to a huge amount of samples belonging to the class 'NormalVideos'"
      ],
      "metadata": {
        "id": "MABq079lgpRa"
      }
    },
    {
      "cell_type": "markdown",
      "source": [
        "##Model Building"
      ],
      "metadata": {
        "id": "4yMx16hvg07D"
      }
    },
    {
      "cell_type": "code",
      "source": [
        "from keras.applications.mobilenet_v2 import MobileNetV2"
      ],
      "metadata": {
        "id": "0Y0dsrxmlLqS"
      },
      "execution_count": 30,
      "outputs": []
    },
    {
      "cell_type": "code",
      "source": [
        "mobilenet_v2 = MobileNetV2(\n",
        "    input_shape=(64, 64, 3),\n",
        "    alpha=1.0,\n",
        "    include_top=False,\n",
        "    weights='imagenet',\n",
        "    input_tensor=None,\n",
        "    pooling=None,\n",
        "    classes=14,\n",
        "    classifier_activation='softmax'\n",
        ")\n",
        "\n",
        "\n",
        "for layer in mobilenet_v2.layers:\n",
        "    layer.trainable = False\n",
        "\n",
        "optimizer = SGD(learning_rate=0.001)\n",
        "\n",
        "model = Sequential()\n",
        "model.add(mobilenet_v2)\n",
        "model.add(Flatten())\n",
        "model.add(Dense(256, activation='relu'))\n",
        "model.add(BatchNormalization())\n",
        "model.add(Dropout(0.2))\n",
        "model.add(Dense(512, activation='relu'))\n",
        "model.add(BatchNormalization())\n",
        "model.add(Dropout(0.2))\n",
        "model.add(Dense(1024, activation='relu'))\n",
        "model.add(Dense(len(class_names), activation='softmax'))\n",
        "\n",
        "# Display model summary\n",
        "model.summary()\n",
        "\n",
        "# Compile the model\n",
        "optimizer = Adam(learning_rate=0.001)\n",
        "model.compile(optimizer=optimizer, loss='categorical_crossentropy', metrics=['accuracy'])"
      ],
      "metadata": {
        "colab": {
          "base_uri": "https://localhost:8080/"
        },
        "id": "3KPWnaQ9FG05",
        "outputId": "5704604a-6da2-4a7f-9a1f-952361e65923"
      },
      "execution_count": 31,
      "outputs": [
        {
          "output_type": "stream",
          "name": "stderr",
          "text": [
            "WARNING:tensorflow:`input_shape` is undefined or non-square, or `rows` is not in [96, 128, 160, 192, 224]. Weights for input shape (224, 224) will be loaded as the default.\n"
          ]
        },
        {
          "output_type": "stream",
          "name": "stdout",
          "text": [
            "Model: \"sequential_3\"\n",
            "_________________________________________________________________\n",
            " Layer (type)                Output Shape              Param #   \n",
            "=================================================================\n",
            " mobilenetv2_1.00_224 (Func  (None, 2, 2, 1280)        2257984   \n",
            " tional)                                                         \n",
            "                                                                 \n",
            " module_wrapper_21 (ModuleW  (None, 5120)              0         \n",
            " rapper)                                                         \n",
            "                                                                 \n",
            " module_wrapper_22 (ModuleW  (None, 256)               1310976   \n",
            " rapper)                                                         \n",
            "                                                                 \n",
            " batch_normalization_6 (Bat  (None, 256)               1024      \n",
            " chNormalization)                                                \n",
            "                                                                 \n",
            " module_wrapper_23 (ModuleW  (None, 256)               0         \n",
            " rapper)                                                         \n",
            "                                                                 \n",
            " module_wrapper_24 (ModuleW  (None, 512)               131584    \n",
            " rapper)                                                         \n",
            "                                                                 \n",
            " batch_normalization_7 (Bat  (None, 512)               2048      \n",
            " chNormalization)                                                \n",
            "                                                                 \n",
            " module_wrapper_25 (ModuleW  (None, 512)               0         \n",
            " rapper)                                                         \n",
            "                                                                 \n",
            " module_wrapper_26 (ModuleW  (None, 1024)              525312    \n",
            " rapper)                                                         \n",
            "                                                                 \n",
            " module_wrapper_27 (ModuleW  (None, 14)                14350     \n",
            " rapper)                                                         \n",
            "                                                                 \n",
            "=================================================================\n",
            "Total params: 4243278 (16.19 MB)\n",
            "Trainable params: 1983758 (7.57 MB)\n",
            "Non-trainable params: 2259520 (8.62 MB)\n",
            "_________________________________________________________________\n"
          ]
        }
      ]
    },
    {
      "cell_type": "markdown",
      "source": [
        "##Training the Model"
      ],
      "metadata": {
        "id": "1pLih6iFhsAs"
      }
    },
    {
      "cell_type": "code",
      "source": [
        "#Checkpoint used to save the best performances only\n",
        "checkpoint = ModelCheckpoint(\n",
        "    filepath='crime.h5',\n",
        "    monitor=\"val_loss\",\n",
        "    mode=\"min\",\n",
        "    save_best_only=True,\n",
        "    save_weights_only=True,\n",
        "    verbose=1)\n",
        "\n",
        "from keras.callbacks import LearningRateScheduler\n",
        "\n",
        "def scheduler(epoch, lr):\n",
        "    if epoch < 10:\n",
        "        return lr\n",
        "    else:\n",
        "        return lr * tf.math.exp(-0.1)\n",
        "\n",
        "lr_schedule = LearningRateScheduler(scheduler)\n"
      ],
      "metadata": {
        "id": "nKxwRUwLFQB_"
      },
      "execution_count": 32,
      "outputs": []
    },
    {
      "cell_type": "code",
      "source": [
        "#training the model (taking a lotttt of time, but it works)\n",
        "callbacks = [checkpoint]\n",
        "epochs=10\n",
        "\n",
        "#Manually setting the priority of 'NormalVideos' (majority) class\n",
        "#to balance the dataset\n",
        "class_weight = {0: 1,\n",
        "                1: 1,\n",
        "                2: 1,\n",
        "                3: 1,\n",
        "                4: 1,\n",
        "                5: 1,\n",
        "                6: 1,\n",
        "                7: 0.7,\n",
        "                8: 1,\n",
        "                9: 1,\n",
        "                10: 1,\n",
        "                11: 1,\n",
        "                12: 1,\n",
        "                13: 1,}\n",
        "\n",
        "model_history = model.fit(\n",
        "  train_set,\n",
        "  validation_data=test_set,\n",
        "  epochs=epochs,\n",
        "  steps_per_epoch = 100,\n",
        "  callbacks=callbacks,\n",
        "  # class_weight = class_weight\n",
        ")"
      ],
      "metadata": {
        "colab": {
          "base_uri": "https://localhost:8080/"
        },
        "id": "zH4HvFp9FS13",
        "outputId": "033fd5fe-750b-43ad-f933-4457a0baa19a"
      },
      "execution_count": 33,
      "outputs": [
        {
          "output_type": "stream",
          "name": "stdout",
          "text": [
            "Epoch 1/10\n",
            "100/100 [==============================] - ETA: 0s - loss: 1.4299 - accuracy: 0.6900\n",
            "Epoch 1: val_loss improved from inf to 3.14930, saving model to crime.h5\n",
            "100/100 [==============================] - 731s 7s/step - loss: 1.4299 - accuracy: 0.6900 - val_loss: 3.1493 - val_accuracy: 0.4037\n",
            "Epoch 2/10\n",
            "100/100 [==============================] - ETA: 0s - loss: 1.2662 - accuracy: 0.7228\n",
            "Epoch 2: val_loss improved from 3.14930 to 2.31910, saving model to crime.h5\n",
            "100/100 [==============================] - 771s 8s/step - loss: 1.2662 - accuracy: 0.7228 - val_loss: 2.3191 - val_accuracy: 0.4849\n",
            "Epoch 3/10\n",
            "100/100 [==============================] - ETA: 0s - loss: 1.2276 - accuracy: 0.7178\n",
            "Epoch 3: val_loss improved from 2.31910 to 2.28730, saving model to crime.h5\n",
            "100/100 [==============================] - 710s 7s/step - loss: 1.2276 - accuracy: 0.7178 - val_loss: 2.2873 - val_accuracy: 0.5766\n",
            "Epoch 4/10\n",
            "100/100 [==============================] - ETA: 0s - loss: 1.1405 - accuracy: 0.7412\n",
            "Epoch 4: val_loss improved from 2.28730 to 2.02291, saving model to crime.h5\n",
            "100/100 [==============================] - 711s 7s/step - loss: 1.1405 - accuracy: 0.7412 - val_loss: 2.0229 - val_accuracy: 0.5782\n",
            "Epoch 5/10\n",
            "100/100 [==============================] - ETA: 0s - loss: 1.0682 - accuracy: 0.7553\n",
            "Epoch 5: val_loss did not improve from 2.02291\n",
            "100/100 [==============================] - 771s 8s/step - loss: 1.0682 - accuracy: 0.7553 - val_loss: 2.2640 - val_accuracy: 0.5779\n",
            "Epoch 6/10\n",
            "100/100 [==============================] - ETA: 0s - loss: 1.1062 - accuracy: 0.7444\n",
            "Epoch 6: val_loss did not improve from 2.02291\n",
            "100/100 [==============================] - 687s 7s/step - loss: 1.1062 - accuracy: 0.7444 - val_loss: 2.2243 - val_accuracy: 0.5700\n",
            "Epoch 7/10\n",
            "100/100 [==============================] - ETA: 0s - loss: 1.0371 - accuracy: 0.7566\n",
            "Epoch 7: val_loss improved from 2.02291 to 1.97179, saving model to crime.h5\n",
            "100/100 [==============================] - 710s 7s/step - loss: 1.0371 - accuracy: 0.7566 - val_loss: 1.9718 - val_accuracy: 0.5319\n",
            "Epoch 8/10\n",
            "100/100 [==============================] - ETA: 0s - loss: 1.0441 - accuracy: 0.7541\n",
            "Epoch 8: val_loss improved from 1.97179 to 1.94027, saving model to crime.h5\n",
            "100/100 [==============================] - 683s 7s/step - loss: 1.0441 - accuracy: 0.7541 - val_loss: 1.9403 - val_accuracy: 0.5652\n",
            "Epoch 9/10\n",
            "100/100 [==============================] - ETA: 0s - loss: 0.9986 - accuracy: 0.7663\n",
            "Epoch 9: val_loss did not improve from 1.94027\n",
            "100/100 [==============================] - 710s 7s/step - loss: 0.9986 - accuracy: 0.7663 - val_loss: 2.1234 - val_accuracy: 0.5587\n",
            "Epoch 10/10\n",
            "100/100 [==============================] - ETA: 0s - loss: 1.0380 - accuracy: 0.7525\n",
            "Epoch 10: val_loss did not improve from 1.94027\n",
            "100/100 [==============================] - 709s 7s/step - loss: 1.0380 - accuracy: 0.7525 - val_loss: 1.9445 - val_accuracy: 0.5786\n"
          ]
        }
      ]
    },
    {
      "cell_type": "markdown",
      "source": [
        "##Testing the Model"
      ],
      "metadata": {
        "id": "LWDFnP2vhoEt"
      }
    },
    {
      "cell_type": "code",
      "source": [
        "from keras.models import load_model\n",
        "\n",
        "mobilenet_v2 = MobileNetV2(\n",
        "    input_shape=(64, 64, 3),\n",
        "    alpha=1.0,\n",
        "    include_top=False,\n",
        "    weights='imagenet',\n",
        "    input_tensor=None,\n",
        "    pooling=None,\n",
        "    classes=14,\n",
        "    classifier_activation='softmax'\n",
        ")\n",
        "\n",
        "\n",
        "for layer in mobilenet_v2.layers:\n",
        "    layer.trainable = False\n",
        "\n",
        "optimizer = Adam(learning_rate=0.001)\n",
        "\n",
        "model_predict = Sequential()\n",
        "model_predict.add(mobilenet_v2)\n",
        "model_predict.add(Flatten())\n",
        "model_predict.add(Dense(256, activation='relu'))\n",
        "model_predict.add(BatchNormalization())\n",
        "model_predict.add(Dropout(0.2))\n",
        "model_predict.add(Dense(512, activation='relu'))\n",
        "model_predict.add(BatchNormalization())\n",
        "model_predict.add(Dropout(0.2))\n",
        "model_predict.add(Dense(1024, activation='relu'))\n",
        "model_predict.add(Dense(len(class_names), activation='softmax'))\n",
        "model_predict.load_weights('crime.h5')"
      ],
      "metadata": {
        "id": "InKKoqK8aqu2"
      },
      "execution_count": null,
      "outputs": []
    },
    {
      "cell_type": "code",
      "source": [
        "#Running the model on a single image\n",
        "from keras.utils import load_img\n",
        "img = image.load_img('/content/Test/NormalVideos/Normal_Videos_003_x264_2200.png',target_size=(64,64))\n",
        "x=image.img_to_array(img)\n",
        "x=np.expand_dims(x,axis=0)\n",
        "prediction = np.argmax(model_predict.predict(x))\n",
        "class_names[prediction]"
      ],
      "metadata": {
        "colab": {
          "base_uri": "https://localhost:8080/",
          "height": 54
        },
        "id": "y51VSLMya2Ep",
        "outputId": "3bf7dbcf-5af2-4a44-f603-10667c994db2"
      },
      "execution_count": 35,
      "outputs": [
        {
          "output_type": "stream",
          "name": "stdout",
          "text": [
            "1/1 [==============================] - 1s 1s/step\n"
          ]
        },
        {
          "output_type": "execute_result",
          "data": {
            "text/plain": [
              "'NormalVideos'"
            ],
            "application/vnd.google.colaboratory.intrinsic+json": {
              "type": "string"
            }
          },
          "metadata": {},
          "execution_count": 35
        }
      ]
    },
    {
      "cell_type": "code",
      "source": [
        "#Running the model on Test_set\n",
        "predictions = model_predict.predict(test_set)\n",
        "predicted_labels = np.argmax(predictions, axis=1)"
      ],
      "metadata": {
        "colab": {
          "base_uri": "https://localhost:8080/"
        },
        "id": "JrJSr2Y6c5ws",
        "outputId": "fc80d0b5-46df-4113-e9b7-7dbefc5e5c3c"
      },
      "execution_count": 36,
      "outputs": [
        {
          "output_type": "stream",
          "name": "stdout",
          "text": [
            "3479/3479 [==============================] - 699s 201ms/step\n"
          ]
        }
      ]
    },
    {
      "cell_type": "markdown",
      "source": [
        "##Evaluating the Model"
      ],
      "metadata": {
        "id": "i7uIfGlEhzPj"
      }
    },
    {
      "cell_type": "code",
      "source": [
        "true_labels = test_set.classes"
      ],
      "metadata": {
        "id": "QrLFApD5euhR"
      },
      "execution_count": null,
      "outputs": []
    },
    {
      "cell_type": "code",
      "source": [
        "from sklearn.metrics import accuracy_score, precision_score, recall_score, f1_score, classification_report, confusion_matrix\n",
        "accuracy = accuracy_score(true_labels, predicted_labels)\n",
        "print(f'Accuracy: {accuracy * 100:.2f}%')\n",
        "\n",
        "precision = precision_score(true_labels, np.argmax(predictions, axis=1), average='weighted')\n",
        "recall = recall_score(true_labels, np.argmax(predictions, axis=1), average='weighted')\n",
        "f1 = f1_score(true_labels, np.argmax(predictions, axis=1), average='weighted')\n",
        "\n",
        "print(f'Precision: {precision * 100:.2f}%')\n",
        "print(f'Recall: {recall * 100:.2f}%')\n",
        "print(f'F1-score: {f1 * 100:.2f}%')\n",
        "\n",
        "# Print classification report\n",
        "print('Classification Report:')\n",
        "print(classification_report(true_labels, np.argmax(predictions, axis=1)))\n",
        "\n",
        "# Print confusion matrix\n",
        "print('Confusion Matrix:')\n",
        "print(confusion_matrix(true_labels, np.argmax(predictions, axis=1)))"
      ],
      "metadata": {
        "colab": {
          "base_uri": "https://localhost:8080/"
        },
        "id": "s31VoSheeeLz",
        "outputId": "e5736593-c443-49cd-8555-39da8469e75e"
      },
      "execution_count": 39,
      "outputs": [
        {
          "output_type": "stream",
          "name": "stdout",
          "text": [
            "Accuracy: 54.59%\n",
            "Precision: 35.09%\n",
            "Recall: 54.59%\n",
            "F1-score: 42.07%\n",
            "Classification Report:\n"
          ]
        },
        {
          "output_type": "stream",
          "name": "stderr",
          "text": [
            "/usr/local/lib/python3.10/dist-packages/sklearn/metrics/_classification.py:1344: UndefinedMetricWarning: Precision is ill-defined and being set to 0.0 in labels with no predicted samples. Use `zero_division` parameter to control this behavior.\n",
            "  _warn_prf(average, modifier, msg_start, len(result))\n",
            "/usr/local/lib/python3.10/dist-packages/sklearn/metrics/_classification.py:1344: UndefinedMetricWarning: Precision and F-score are ill-defined and being set to 0.0 in labels with no predicted samples. Use `zero_division` parameter to control this behavior.\n",
            "  _warn_prf(average, modifier, msg_start, len(result))\n"
          ]
        },
        {
          "output_type": "stream",
          "name": "stdout",
          "text": [
            "              precision    recall  f1-score   support\n",
            "\n",
            "           0       0.03      0.00      0.01       297\n",
            "           1       0.00      0.00      0.00      3365\n",
            "           2       0.03      0.02      0.02      2793\n",
            "           3       0.00      0.00      0.00      2657\n",
            "           4       0.00      0.00      0.00      7657\n",
            "           5       0.06      0.00      0.01      6510\n",
            "           6       0.00      0.00      0.00      1231\n",
            "           7       0.58      0.93      0.72     64952\n",
            "           8       0.00      0.00      0.00      2663\n",
            "           9       0.01      0.00      0.00       835\n",
            "          10       0.00      0.00      0.00      7630\n",
            "          11       0.08      0.00      0.00      7623\n",
            "          12       0.01      0.04      0.02      1984\n",
            "          13       0.00      0.00      0.00      1111\n",
            "\n",
            "    accuracy                           0.55    111308\n",
            "   macro avg       0.06      0.07      0.06    111308\n",
            "weighted avg       0.35      0.55      0.42    111308\n",
            "\n",
            "Confusion Matrix:\n",
            "[[    1     0     6     0     0     1     0   278     0     0     0     0\n",
            "     11     0]\n",
            " [    0     0    59     0     0    12     1  3148     0     6     0     2\n",
            "    137     0]\n",
            " [    0     1    47     0     0     7     3  2582     0     4     0     4\n",
            "    145     0]\n",
            " [    1     0    57     0     0    15     1  2449     0     4     0     3\n",
            "    127     0]\n",
            " [    2     1   121     0     0    15     4  7142     1    10     0     8\n",
            "    353     0]\n",
            " [    2     1   107     0     0    19     4  6071     0     7     0     8\n",
            "    291     0]\n",
            " [    0     0    19     0     0     5     0  1144     0     1     0     2\n",
            "     60     0]\n",
            " [   18     8  1023     0     2   188    20 60611     1   107     0    89\n",
            "   2884     1]\n",
            " [    3     1    38     0     0    11     0  2470     0     4     0     4\n",
            "    132     0]\n",
            " [    1     0    11     0     0     3     0   781     0     2     0     1\n",
            "     36     0]\n",
            " [    0     1   143     0     0    25     5  7080     1    13     0     9\n",
            "    353     0]\n",
            " [    2     1   116     0     0    24     7  7107     0    15     0    12\n",
            "    339     0]\n",
            " [    0     0    30     0     0     5     1  1870     0     3     0     2\n",
            "     73     0]\n",
            " [    1     0    15     0     0     3     0  1028     0     0     0     2\n",
            "     62     0]]\n"
          ]
        },
        {
          "output_type": "stream",
          "name": "stderr",
          "text": [
            "/usr/local/lib/python3.10/dist-packages/sklearn/metrics/_classification.py:1344: UndefinedMetricWarning: Precision and F-score are ill-defined and being set to 0.0 in labels with no predicted samples. Use `zero_division` parameter to control this behavior.\n",
            "  _warn_prf(average, modifier, msg_start, len(result))\n",
            "/usr/local/lib/python3.10/dist-packages/sklearn/metrics/_classification.py:1344: UndefinedMetricWarning: Precision and F-score are ill-defined and being set to 0.0 in labels with no predicted samples. Use `zero_division` parameter to control this behavior.\n",
            "  _warn_prf(average, modifier, msg_start, len(result))\n"
          ]
        }
      ]
    }
  ]
}